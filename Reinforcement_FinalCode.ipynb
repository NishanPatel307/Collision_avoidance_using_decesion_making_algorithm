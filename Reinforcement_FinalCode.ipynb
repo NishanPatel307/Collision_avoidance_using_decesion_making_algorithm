{
 "cells": [
  {
   "cell_type": "code",
   "execution_count": 114,
   "metadata": {
    "colab": {
     "background_save": true,
     "base_uri": "https://localhost:8080/",
     "height": 424
    },
    "id": "87pE7Elm6En1",
    "outputId": "74dbee6f-1f49-4c99-b7dd-872ca40317fc"
   },
   "outputs": [
    {
     "data": {
      "text/html": [
       "<div>\n",
       "<style scoped>\n",
       "    .dataframe tbody tr th:only-of-type {\n",
       "        vertical-align: middle;\n",
       "    }\n",
       "\n",
       "    .dataframe tbody tr th {\n",
       "        vertical-align: top;\n",
       "    }\n",
       "\n",
       "    .dataframe thead th {\n",
       "        text-align: right;\n",
       "    }\n",
       "</style>\n",
       "<table border=\"1\" class=\"dataframe\">\n",
       "  <thead>\n",
       "    <tr style=\"text-align: right;\">\n",
       "      <th></th>\n",
       "      <th>Self velocity(m/s)</th>\n",
       "      <th>Object velocity</th>\n",
       "      <th>Range</th>\n",
       "      <th>Tolerance</th>\n",
       "      <th>Range + Tolerance</th>\n",
       "      <th>Distance</th>\n",
       "      <th>Collision</th>\n",
       "    </tr>\n",
       "  </thead>\n",
       "  <tbody>\n",
       "    <tr>\n",
       "      <th>0</th>\n",
       "      <td>2.695980</td>\n",
       "      <td>14.831661</td>\n",
       "      <td>8.924739e-01</td>\n",
       "      <td>2.677422e-01</td>\n",
       "      <td>1.160216e+00</td>\n",
       "      <td>1.784948e-01</td>\n",
       "      <td>-9.817213e-01</td>\n",
       "    </tr>\n",
       "    <tr>\n",
       "      <th>1</th>\n",
       "      <td>0.424813</td>\n",
       "      <td>27.626374</td>\n",
       "      <td>2.215940e-02</td>\n",
       "      <td>6.647820e-03</td>\n",
       "      <td>2.880722e-02</td>\n",
       "      <td>4.431880e-03</td>\n",
       "      <td>-2.437534e-02</td>\n",
       "    </tr>\n",
       "    <tr>\n",
       "      <th>2</th>\n",
       "      <td>1.698926</td>\n",
       "      <td>25.085117</td>\n",
       "      <td>3.544143e-01</td>\n",
       "      <td>1.063243e-01</td>\n",
       "      <td>4.607386e-01</td>\n",
       "      <td>7.088286e-02</td>\n",
       "      <td>-3.898557e-01</td>\n",
       "    </tr>\n",
       "    <tr>\n",
       "      <th>3</th>\n",
       "      <td>1.656997</td>\n",
       "      <td>31.651436</td>\n",
       "      <td>3.371362e-01</td>\n",
       "      <td>1.011409e-01</td>\n",
       "      <td>4.382771e-01</td>\n",
       "      <td>6.742725e-02</td>\n",
       "      <td>-3.708498e-01</td>\n",
       "    </tr>\n",
       "    <tr>\n",
       "      <th>4</th>\n",
       "      <td>0.000955</td>\n",
       "      <td>14.149802</td>\n",
       "      <td>1.119369e-07</td>\n",
       "      <td>3.358108e-08</td>\n",
       "      <td>1.455180e-07</td>\n",
       "      <td>2.238739e-08</td>\n",
       "      <td>-1.231306e-07</td>\n",
       "    </tr>\n",
       "    <tr>\n",
       "      <th>...</th>\n",
       "      <td>...</td>\n",
       "      <td>...</td>\n",
       "      <td>...</td>\n",
       "      <td>...</td>\n",
       "      <td>...</td>\n",
       "      <td>...</td>\n",
       "      <td>...</td>\n",
       "    </tr>\n",
       "    <tr>\n",
       "      <th>175</th>\n",
       "      <td>40.618150</td>\n",
       "      <td>31.982310</td>\n",
       "      <td>2.025828e+02</td>\n",
       "      <td>6.077483e+01</td>\n",
       "      <td>2.633576e+02</td>\n",
       "      <td>1.620662e+02</td>\n",
       "      <td>-1.012914e+02</td>\n",
       "    </tr>\n",
       "    <tr>\n",
       "      <th>176</th>\n",
       "      <td>41.224242</td>\n",
       "      <td>1.912417</td>\n",
       "      <td>2.086736e+02</td>\n",
       "      <td>6.260209e+01</td>\n",
       "      <td>2.712757e+02</td>\n",
       "      <td>1.669389e+02</td>\n",
       "      <td>-1.043368e+02</td>\n",
       "    </tr>\n",
       "    <tr>\n",
       "      <th>177</th>\n",
       "      <td>40.786915</td>\n",
       "      <td>6.182747</td>\n",
       "      <td>2.042697e+02</td>\n",
       "      <td>6.128091e+01</td>\n",
       "      <td>2.655506e+02</td>\n",
       "      <td>1.634158e+02</td>\n",
       "      <td>-1.021348e+02</td>\n",
       "    </tr>\n",
       "    <tr>\n",
       "      <th>178</th>\n",
       "      <td>39.910413</td>\n",
       "      <td>31.372349</td>\n",
       "      <td>1.955846e+02</td>\n",
       "      <td>5.867538e+01</td>\n",
       "      <td>2.542600e+02</td>\n",
       "      <td>1.564677e+02</td>\n",
       "      <td>-9.779231e+01</td>\n",
       "    </tr>\n",
       "    <tr>\n",
       "      <th>179</th>\n",
       "      <td>40.711693</td>\n",
       "      <td>27.118171</td>\n",
       "      <td>2.035169e+02</td>\n",
       "      <td>6.105508e+01</td>\n",
       "      <td>2.645720e+02</td>\n",
       "      <td>1.628135e+02</td>\n",
       "      <td>-1.017585e+02</td>\n",
       "    </tr>\n",
       "  </tbody>\n",
       "</table>\n",
       "<p>180 rows × 7 columns</p>\n",
       "</div>"
      ],
      "text/plain": [
       "     Self velocity(m/s)  Object velocity         Range     Tolerance  \\\n",
       "0              2.695980        14.831661  8.924739e-01  2.677422e-01   \n",
       "1              0.424813        27.626374  2.215940e-02  6.647820e-03   \n",
       "2              1.698926        25.085117  3.544143e-01  1.063243e-01   \n",
       "3              1.656997        31.651436  3.371362e-01  1.011409e-01   \n",
       "4              0.000955        14.149802  1.119369e-07  3.358108e-08   \n",
       "..                  ...              ...           ...           ...   \n",
       "175           40.618150        31.982310  2.025828e+02  6.077483e+01   \n",
       "176           41.224242         1.912417  2.086736e+02  6.260209e+01   \n",
       "177           40.786915         6.182747  2.042697e+02  6.128091e+01   \n",
       "178           39.910413        31.372349  1.955846e+02  5.867538e+01   \n",
       "179           40.711693        27.118171  2.035169e+02  6.105508e+01   \n",
       "\n",
       "     Range + Tolerance      Distance     Collision  \n",
       "0         1.160216e+00  1.784948e-01 -9.817213e-01  \n",
       "1         2.880722e-02  4.431880e-03 -2.437534e-02  \n",
       "2         4.607386e-01  7.088286e-02 -3.898557e-01  \n",
       "3         4.382771e-01  6.742725e-02 -3.708498e-01  \n",
       "4         1.455180e-07  2.238739e-08 -1.231306e-07  \n",
       "..                 ...           ...           ...  \n",
       "175       2.633576e+02  1.620662e+02 -1.012914e+02  \n",
       "176       2.712757e+02  1.669389e+02 -1.043368e+02  \n",
       "177       2.655506e+02  1.634158e+02 -1.021348e+02  \n",
       "178       2.542600e+02  1.564677e+02 -9.779231e+01  \n",
       "179       2.645720e+02  1.628135e+02 -1.017585e+02  \n",
       "\n",
       "[180 rows x 7 columns]"
      ]
     },
     "execution_count": 114,
     "metadata": {},
     "output_type": "execute_result"
    }
   ],
   "source": [
    "import pandas as pd\n",
    "data = pd.read_csv('new_data_Rl.csv')\n",
    "data"
   ]
  },
  {
   "cell_type": "code",
   "execution_count": 115,
   "metadata": {
    "colab": {
     "base_uri": "https://localhost:8080/",
     "height": 424
    },
    "id": "mqvPxyoe6En3",
    "outputId": "2bb06815-00af-4122-8ff3-793ebc21131f"
   },
   "outputs": [
    {
     "data": {
      "text/html": [
       "<div>\n",
       "<style scoped>\n",
       "    .dataframe tbody tr th:only-of-type {\n",
       "        vertical-align: middle;\n",
       "    }\n",
       "\n",
       "    .dataframe tbody tr th {\n",
       "        vertical-align: top;\n",
       "    }\n",
       "\n",
       "    .dataframe thead th {\n",
       "        text-align: right;\n",
       "    }\n",
       "</style>\n",
       "<table border=\"1\" class=\"dataframe\">\n",
       "  <thead>\n",
       "    <tr style=\"text-align: right;\">\n",
       "      <th></th>\n",
       "      <th>Self velocity(m/s)</th>\n",
       "      <th>Object velocity</th>\n",
       "      <th>Range</th>\n",
       "      <th>Tolerance</th>\n",
       "      <th>range+tolerance</th>\n",
       "      <th>Distance</th>\n",
       "    </tr>\n",
       "  </thead>\n",
       "  <tbody>\n",
       "    <tr>\n",
       "      <th>0</th>\n",
       "      <td>2.695980</td>\n",
       "      <td>14.831661</td>\n",
       "      <td>8.924739e-01</td>\n",
       "      <td>2.677422e-01</td>\n",
       "      <td>NaN</td>\n",
       "      <td>1.784948e-01</td>\n",
       "    </tr>\n",
       "    <tr>\n",
       "      <th>1</th>\n",
       "      <td>0.424813</td>\n",
       "      <td>27.626374</td>\n",
       "      <td>2.215940e-02</td>\n",
       "      <td>6.647820e-03</td>\n",
       "      <td>NaN</td>\n",
       "      <td>4.431880e-03</td>\n",
       "    </tr>\n",
       "    <tr>\n",
       "      <th>2</th>\n",
       "      <td>1.698926</td>\n",
       "      <td>25.085117</td>\n",
       "      <td>3.544143e-01</td>\n",
       "      <td>1.063243e-01</td>\n",
       "      <td>NaN</td>\n",
       "      <td>7.088286e-02</td>\n",
       "    </tr>\n",
       "    <tr>\n",
       "      <th>3</th>\n",
       "      <td>1.656997</td>\n",
       "      <td>31.651436</td>\n",
       "      <td>3.371362e-01</td>\n",
       "      <td>1.011409e-01</td>\n",
       "      <td>NaN</td>\n",
       "      <td>6.742725e-02</td>\n",
       "    </tr>\n",
       "    <tr>\n",
       "      <th>4</th>\n",
       "      <td>0.000955</td>\n",
       "      <td>14.149802</td>\n",
       "      <td>1.119369e-07</td>\n",
       "      <td>3.358108e-08</td>\n",
       "      <td>NaN</td>\n",
       "      <td>2.238739e-08</td>\n",
       "    </tr>\n",
       "    <tr>\n",
       "      <th>...</th>\n",
       "      <td>...</td>\n",
       "      <td>...</td>\n",
       "      <td>...</td>\n",
       "      <td>...</td>\n",
       "      <td>...</td>\n",
       "      <td>...</td>\n",
       "    </tr>\n",
       "    <tr>\n",
       "      <th>175</th>\n",
       "      <td>40.618150</td>\n",
       "      <td>31.982310</td>\n",
       "      <td>2.025828e+02</td>\n",
       "      <td>6.077483e+01</td>\n",
       "      <td>NaN</td>\n",
       "      <td>1.620662e+02</td>\n",
       "    </tr>\n",
       "    <tr>\n",
       "      <th>176</th>\n",
       "      <td>41.224242</td>\n",
       "      <td>1.912417</td>\n",
       "      <td>2.086736e+02</td>\n",
       "      <td>6.260209e+01</td>\n",
       "      <td>NaN</td>\n",
       "      <td>1.669389e+02</td>\n",
       "    </tr>\n",
       "    <tr>\n",
       "      <th>177</th>\n",
       "      <td>40.786915</td>\n",
       "      <td>6.182747</td>\n",
       "      <td>2.042697e+02</td>\n",
       "      <td>6.128091e+01</td>\n",
       "      <td>NaN</td>\n",
       "      <td>1.634158e+02</td>\n",
       "    </tr>\n",
       "    <tr>\n",
       "      <th>178</th>\n",
       "      <td>39.910413</td>\n",
       "      <td>31.372349</td>\n",
       "      <td>1.955846e+02</td>\n",
       "      <td>5.867538e+01</td>\n",
       "      <td>NaN</td>\n",
       "      <td>1.564677e+02</td>\n",
       "    </tr>\n",
       "    <tr>\n",
       "      <th>179</th>\n",
       "      <td>40.711693</td>\n",
       "      <td>27.118171</td>\n",
       "      <td>2.035169e+02</td>\n",
       "      <td>6.105508e+01</td>\n",
       "      <td>NaN</td>\n",
       "      <td>1.628135e+02</td>\n",
       "    </tr>\n",
       "  </tbody>\n",
       "</table>\n",
       "<p>180 rows × 6 columns</p>\n",
       "</div>"
      ],
      "text/plain": [
       "     Self velocity(m/s)  Object velocity         Range     Tolerance  \\\n",
       "0              2.695980        14.831661  8.924739e-01  2.677422e-01   \n",
       "1              0.424813        27.626374  2.215940e-02  6.647820e-03   \n",
       "2              1.698926        25.085117  3.544143e-01  1.063243e-01   \n",
       "3              1.656997        31.651436  3.371362e-01  1.011409e-01   \n",
       "4              0.000955        14.149802  1.119369e-07  3.358108e-08   \n",
       "..                  ...              ...           ...           ...   \n",
       "175           40.618150        31.982310  2.025828e+02  6.077483e+01   \n",
       "176           41.224242         1.912417  2.086736e+02  6.260209e+01   \n",
       "177           40.786915         6.182747  2.042697e+02  6.128091e+01   \n",
       "178           39.910413        31.372349  1.955846e+02  5.867538e+01   \n",
       "179           40.711693        27.118171  2.035169e+02  6.105508e+01   \n",
       "\n",
       "     range+tolerance      Distance  \n",
       "0                NaN  1.784948e-01  \n",
       "1                NaN  4.431880e-03  \n",
       "2                NaN  7.088286e-02  \n",
       "3                NaN  6.742725e-02  \n",
       "4                NaN  2.238739e-08  \n",
       "..               ...           ...  \n",
       "175              NaN  1.620662e+02  \n",
       "176              NaN  1.669389e+02  \n",
       "177              NaN  1.634158e+02  \n",
       "178              NaN  1.564677e+02  \n",
       "179              NaN  1.628135e+02  \n",
       "\n",
       "[180 rows x 6 columns]"
      ]
     },
     "execution_count": 115,
     "metadata": {},
     "output_type": "execute_result"
    }
   ],
   "source": [
    "df = pd.DataFrame(data, columns= ['Self velocity(m/s)','Object velocity','Range','Tolerance','range+tolerance','Distance'])\n",
    "df"
   ]
  },
  {
   "cell_type": "code",
   "execution_count": 132,
   "metadata": {},
   "outputs": [
    {
     "data": {
      "text/html": [
       "<div>\n",
       "<style scoped>\n",
       "    .dataframe tbody tr th:only-of-type {\n",
       "        vertical-align: middle;\n",
       "    }\n",
       "\n",
       "    .dataframe tbody tr th {\n",
       "        vertical-align: top;\n",
       "    }\n",
       "\n",
       "    .dataframe thead th {\n",
       "        text-align: right;\n",
       "    }\n",
       "</style>\n",
       "<table border=\"1\" class=\"dataframe\">\n",
       "  <thead>\n",
       "    <tr style=\"text-align: right;\">\n",
       "      <th></th>\n",
       "      <th>Self velocity(m/s)</th>\n",
       "      <th>Object velocity</th>\n",
       "      <th>Range</th>\n",
       "      <th>Tolerance</th>\n",
       "      <th>range+tolerance</th>\n",
       "      <th>Distance</th>\n",
       "    </tr>\n",
       "  </thead>\n",
       "  <tbody>\n",
       "    <tr>\n",
       "      <th>count</th>\n",
       "      <td>180.000000</td>\n",
       "      <td>180.000000</td>\n",
       "      <td>1.800000e+02</td>\n",
       "      <td>1.800000e+02</td>\n",
       "      <td>0.0</td>\n",
       "      <td>1.800000e+02</td>\n",
       "    </tr>\n",
       "    <tr>\n",
       "      <th>mean</th>\n",
       "      <td>21.252501</td>\n",
       "      <td>22.259358</td>\n",
       "      <td>7.334669e+01</td>\n",
       "      <td>2.200401e+01</td>\n",
       "      <td>NaN</td>\n",
       "      <td>6.601779e+01</td>\n",
       "    </tr>\n",
       "    <tr>\n",
       "      <th>std</th>\n",
       "      <td>12.102910</td>\n",
       "      <td>11.942684</td>\n",
       "      <td>6.490067e+01</td>\n",
       "      <td>1.947020e+01</td>\n",
       "      <td>NaN</td>\n",
       "      <td>6.222011e+01</td>\n",
       "    </tr>\n",
       "    <tr>\n",
       "      <th>min</th>\n",
       "      <td>0.000955</td>\n",
       "      <td>1.064866</td>\n",
       "      <td>1.119369e-07</td>\n",
       "      <td>3.358108e-08</td>\n",
       "      <td>NaN</td>\n",
       "      <td>2.238739e-08</td>\n",
       "    </tr>\n",
       "    <tr>\n",
       "      <th>25%</th>\n",
       "      <td>11.033206</td>\n",
       "      <td>13.886978</td>\n",
       "      <td>1.494834e+01</td>\n",
       "      <td>4.484502e+00</td>\n",
       "      <td>NaN</td>\n",
       "      <td>2.989668e+00</td>\n",
       "    </tr>\n",
       "    <tr>\n",
       "      <th>50%</th>\n",
       "      <td>21.177819</td>\n",
       "      <td>24.000000</td>\n",
       "      <td>5.507345e+01</td>\n",
       "      <td>1.652203e+01</td>\n",
       "      <td>NaN</td>\n",
       "      <td>3.304407e+01</td>\n",
       "    </tr>\n",
       "    <tr>\n",
       "      <th>75%</th>\n",
       "      <td>32.056722</td>\n",
       "      <td>31.466073</td>\n",
       "      <td>1.261832e+02</td>\n",
       "      <td>3.785497e+01</td>\n",
       "      <td>NaN</td>\n",
       "      <td>1.257675e+02</td>\n",
       "    </tr>\n",
       "    <tr>\n",
       "      <th>max</th>\n",
       "      <td>41.298987</td>\n",
       "      <td>41.999520</td>\n",
       "      <td>2.094310e+02</td>\n",
       "      <td>6.282931e+01</td>\n",
       "      <td>NaN</td>\n",
       "      <td>1.675448e+02</td>\n",
       "    </tr>\n",
       "  </tbody>\n",
       "</table>\n",
       "</div>"
      ],
      "text/plain": [
       "       Self velocity(m/s)  Object velocity         Range     Tolerance  \\\n",
       "count          180.000000       180.000000  1.800000e+02  1.800000e+02   \n",
       "mean            21.252501        22.259358  7.334669e+01  2.200401e+01   \n",
       "std             12.102910        11.942684  6.490067e+01  1.947020e+01   \n",
       "min              0.000955         1.064866  1.119369e-07  3.358108e-08   \n",
       "25%             11.033206        13.886978  1.494834e+01  4.484502e+00   \n",
       "50%             21.177819        24.000000  5.507345e+01  1.652203e+01   \n",
       "75%             32.056722        31.466073  1.261832e+02  3.785497e+01   \n",
       "max             41.298987        41.999520  2.094310e+02  6.282931e+01   \n",
       "\n",
       "       range+tolerance      Distance  \n",
       "count              0.0  1.800000e+02  \n",
       "mean               NaN  6.601779e+01  \n",
       "std                NaN  6.222011e+01  \n",
       "min                NaN  2.238739e-08  \n",
       "25%                NaN  2.989668e+00  \n",
       "50%                NaN  3.304407e+01  \n",
       "75%                NaN  1.257675e+02  \n",
       "max                NaN  1.675448e+02  "
      ]
     },
     "execution_count": 132,
     "metadata": {},
     "output_type": "execute_result"
    }
   ],
   "source": [
    "df.describe()"
   ]
  },
  {
   "cell_type": "code",
   "execution_count": 116,
   "metadata": {},
   "outputs": [],
   "source": [
    "nadf = df.to_numpy()"
   ]
  },
  {
   "cell_type": "code",
   "execution_count": 117,
   "metadata": {},
   "outputs": [
    {
     "data": {
      "text/plain": [
       "2.695979942"
      ]
     },
     "execution_count": 117,
     "metadata": {},
     "output_type": "execute_result"
    }
   ],
   "source": [
    "nadf[0,0]"
   ]
  },
  {
   "cell_type": "code",
   "execution_count": 118,
   "metadata": {},
   "outputs": [
    {
     "data": {
      "text/plain": [
       "180"
      ]
     },
     "execution_count": 118,
     "metadata": {},
     "output_type": "execute_result"
    }
   ],
   "source": [
    "len(nadf)"
   ]
  },
  {
   "cell_type": "code",
   "execution_count": 119,
   "metadata": {
    "id": "3SrM1NU06En4",
    "outputId": "809653cc-0721-46e5-8ee1-1b788c413ebb"
   },
   "outputs": [
    {
     "data": {
      "text/plain": [
       "1.119369347e-07"
      ]
     },
     "execution_count": 119,
     "metadata": {},
     "output_type": "execute_result"
    }
   ],
   "source": [
    "df.iloc[i,2]"
   ]
  },
  {
   "cell_type": "code",
   "execution_count": 120,
   "metadata": {
    "colab": {
     "base_uri": "https://localhost:8080/",
     "height": 424
    },
    "id": "6qm8eik26En4",
    "outputId": "bb935200-b06a-4c2a-9582-8b62e79f0cfa"
   },
   "outputs": [
    {
     "data": {
      "text/html": [
       "<div>\n",
       "<style scoped>\n",
       "    .dataframe tbody tr th:only-of-type {\n",
       "        vertical-align: middle;\n",
       "    }\n",
       "\n",
       "    .dataframe tbody tr th {\n",
       "        vertical-align: top;\n",
       "    }\n",
       "\n",
       "    .dataframe thead th {\n",
       "        text-align: right;\n",
       "    }\n",
       "</style>\n",
       "<table border=\"1\" class=\"dataframe\">\n",
       "  <thead>\n",
       "    <tr style=\"text-align: right;\">\n",
       "      <th></th>\n",
       "      <th>Self velocity(m/s)</th>\n",
       "    </tr>\n",
       "  </thead>\n",
       "  <tbody>\n",
       "    <tr>\n",
       "      <th>0</th>\n",
       "      <td>2.695980</td>\n",
       "    </tr>\n",
       "    <tr>\n",
       "      <th>1</th>\n",
       "      <td>0.424813</td>\n",
       "    </tr>\n",
       "    <tr>\n",
       "      <th>2</th>\n",
       "      <td>1.698926</td>\n",
       "    </tr>\n",
       "    <tr>\n",
       "      <th>3</th>\n",
       "      <td>1.656997</td>\n",
       "    </tr>\n",
       "    <tr>\n",
       "      <th>4</th>\n",
       "      <td>0.000955</td>\n",
       "    </tr>\n",
       "    <tr>\n",
       "      <th>...</th>\n",
       "      <td>...</td>\n",
       "    </tr>\n",
       "    <tr>\n",
       "      <th>175</th>\n",
       "      <td>40.618150</td>\n",
       "    </tr>\n",
       "    <tr>\n",
       "      <th>176</th>\n",
       "      <td>41.224242</td>\n",
       "    </tr>\n",
       "    <tr>\n",
       "      <th>177</th>\n",
       "      <td>40.786915</td>\n",
       "    </tr>\n",
       "    <tr>\n",
       "      <th>178</th>\n",
       "      <td>39.910413</td>\n",
       "    </tr>\n",
       "    <tr>\n",
       "      <th>179</th>\n",
       "      <td>40.711693</td>\n",
       "    </tr>\n",
       "  </tbody>\n",
       "</table>\n",
       "<p>180 rows × 1 columns</p>\n",
       "</div>"
      ],
      "text/plain": [
       "     Self velocity(m/s)\n",
       "0              2.695980\n",
       "1              0.424813\n",
       "2              1.698926\n",
       "3              1.656997\n",
       "4              0.000955\n",
       "..                  ...\n",
       "175           40.618150\n",
       "176           41.224242\n",
       "177           40.786915\n",
       "178           39.910413\n",
       "179           40.711693\n",
       "\n",
       "[180 rows x 1 columns]"
      ]
     },
     "execution_count": 120,
     "metadata": {},
     "output_type": "execute_result"
    }
   ],
   "source": [
    "df.loc[:,['Self velocity(m/s)']]"
   ]
  },
  {
   "cell_type": "code",
   "execution_count": 121,
   "metadata": {
    "id": "3_w_54XX6En5"
   },
   "outputs": [],
   "source": [
    "\n",
    "SV = list(df['Self velocity(m/s)'])\n",
    "OV = list(df['Object velocity'])\n",
    "DO = list(df['Distance'])\n",
    "RG = list(df['range+tolerance'])\n",
    "\n",
    "\n"
   ]
  },
  {
   "cell_type": "code",
   "execution_count": 122,
   "metadata": {
    "colab": {
     "base_uri": "https://localhost:8080/"
    },
    "id": "m1gcm2r16En6",
    "outputId": "fb9f93cb-bb5b-4732-d4e6-0ce86d6a3d98"
   },
   "outputs": [
    {
     "name": "stdout",
     "output_type": "stream",
     "text": [
      "['Break', 'Agg.break', 'Acc', 'DeAcc', 'No Actions']\n",
      "[2.77, 5.55, 8.33, 11.11, 13.38, 16.11, 19.44, 22.22, 25, 27.77, 30.55, 33.33, 36.11, 38.88, 41.66]\n",
      "15\n"
     ]
    }
   ],
   "source": [
    "actions_space = ['Break','Agg.break','Acc','DeAcc','No Actions']\n",
    "state_space = [2.77,5.55,8.33,11.11,13.38,16.11,19.44,22.22,25,27.77,30.55,33.33,36.11,38.88,41.66]\n",
    "print(actions_space)\n",
    "print(state_space)\n",
    "print(len(state_space))"
   ]
  },
  {
   "cell_type": "code",
   "execution_count": 123,
   "metadata": {
    "colab": {
     "base_uri": "https://localhost:8080/"
    },
    "id": "zrXUYDo16En7",
    "outputId": "7a26d9a4-591c-439d-b7dd-729462ea09a4"
   },
   "outputs": [
    {
     "data": {
      "text/plain": [
       "array([[0., 0., 0., 0., 0.],\n",
       "       [0., 0., 0., 0., 0.],\n",
       "       [0., 0., 0., 0., 0.],\n",
       "       [0., 0., 0., 0., 0.],\n",
       "       [0., 0., 0., 0., 0.],\n",
       "       [0., 0., 0., 0., 0.],\n",
       "       [0., 0., 0., 0., 0.],\n",
       "       [0., 0., 0., 0., 0.],\n",
       "       [0., 0., 0., 0., 0.],\n",
       "       [0., 0., 0., 0., 0.],\n",
       "       [0., 0., 0., 0., 0.],\n",
       "       [0., 0., 0., 0., 0.],\n",
       "       [0., 0., 0., 0., 0.],\n",
       "       [0., 0., 0., 0., 0.],\n",
       "       [0., 0., 0., 0., 0.]])"
      ]
     },
     "execution_count": 123,
     "metadata": {},
     "output_type": "execute_result"
    }
   ],
   "source": [
    "import numpy as np  \n",
    "q_table = np.zeros((15,5))\n",
    "q_table\n"
   ]
  },
  {
   "cell_type": "markdown",
   "metadata": {
    "id": "nkLDjkhsw_pa"
   },
   "source": [
    "# **Make State**"
   ]
  },
  {
   "cell_type": "code",
   "execution_count": 124,
   "metadata": {
    "id": "AF7ATRnj9WON"
   },
   "outputs": [],
   "source": [
    "def make_state(SV):\n",
    "    if(SV <=2.77):\n",
    "        return  0\n",
    "    elif(SV > 2.77 and SV <= 5.77):\n",
    "         return 1\n",
    "    elif(SV > 5.55 and SV <=8.33):\n",
    "        return 2\n",
    "    elif(SV > 8.33 and SV <=11.11):\n",
    "        return 3      \n",
    "    elif(SV > 11.11 and SV <=13.38):\n",
    "        return 4\n",
    "    elif(SV>13.38 and SV<=16.66):\n",
    "        return 5\n",
    "    elif(SV > 16.66 and SV <=19.44):\n",
    "        return 6\n",
    "    elif(SV > 19.44 and SV <=22.22):\n",
    "        return 7\n",
    "    elif(SV > 22.22 and SV<=25):\n",
    "        return 8\n",
    "    elif (SV > 25 and SV<=27.77):\n",
    "        return 9\n",
    "    elif (SV > 27.77 and SV<=30.55):\n",
    "        return 10\n",
    "    elif (SV > 30.55 and SV<=33.33):\n",
    "        return 11\n",
    "    elif (SV > 33.33 and SV<=36.11):\n",
    "        return 12\n",
    "    elif (SV > 36.11 and SV<=38.88):\n",
    "        return 13\n",
    "    else :\n",
    "        return 14\n"
   ]
  },
  {
   "cell_type": "markdown",
   "metadata": {
    "id": "jxDYgJIDU1pe"
   },
   "source": [
    "# REWARD FUNCTION"
   ]
  },
  {
   "cell_type": "code",
   "execution_count": null,
   "metadata": {
    "id": "C6PgW9g4U05u"
   },
   "outputs": [],
   "source": []
  },
  {
   "cell_type": "code",
   "execution_count": null,
   "metadata": {
    "id": "dJu_MMV6_wjE"
   },
   "outputs": [],
   "source": []
  },
  {
   "cell_type": "markdown",
   "metadata": {
    "id": "YNTBHKZ9wyEY"
   },
   "source": [
    "# **Actions**"
   ]
  },
  {
   "cell_type": "code",
   "execution_count": 125,
   "metadata": {
    "id": "rlgxLsRn6En7"
   },
   "outputs": [],
   "source": [
    "def get_next_action(current_row_index, current_column_index, epsilon):\n",
    "  #if a randomly chosen value between 0 and 1 is less than epsilon, \n",
    "  #then choose the most promising value from the Q-table for this state.  \n",
    "  if np.random.random() < epsilon:\n",
    "    return np.argmax(q_values[current_row_index, current_column_index])\n",
    "  else: #choose a random action\n",
    "    return np.random.randint(4)\n"
   ]
  },
  {
   "cell_type": "markdown",
   "metadata": {
    "id": "X8yWapIwxGex"
   },
   "source": []
  },
  {
   "cell_type": "markdown",
   "metadata": {
    "id": "6EDNIcFRw4MQ"
   },
   "source": [
    "# **Next State Function**"
   ]
  },
  {
   "cell_type": "code",
   "execution_count": 141,
   "metadata": {
    "id": "uyCRJJZD6En8"
   },
   "outputs": [],
   "source": [
    "\n",
    "def next_state(state,action,SV,OV,ds,reward):\n",
    "    \n",
    "    if(action==0):\n",
    "        SV = SV - 2.77\n",
    "    elif(action==1):\n",
    "        SV = SV-5\n",
    "    elif(action==2):\n",
    "        SV = SV+5\n",
    "    elif(action==3):\n",
    "        SV = SV+4\n",
    "    elif(action==4):\n",
    "        SV = SV-0.1\n",
    "        \n",
    "    a = 2.77\n",
    "    x = (OV+SV)/2.5\n",
    "    d=(pow(OV,2)/(2*a))\n",
    "    rg = float(x+d)\n",
    "    if(rg>ds):\n",
    "        reward = 1\n",
    "    else:\n",
    "        reward = -1\n",
    "    \n",
    "    state = make_state(SV)\n",
    "    \n",
    "    return(int(state),reward)"
   ]
  },
  {
   "cell_type": "markdown",
   "metadata": {
    "id": "XjuThRGgyfTd"
   },
   "source": [
    "# **Reward Table**"
   ]
  },
  {
   "cell_type": "code",
   "execution_count": 142,
   "metadata": {
    "id": "E15ECxs-6En8"
   },
   "outputs": [
    {
     "name": "stdout",
     "output_type": "stream",
     "text": [
      "Training finished.\n",
      "\n",
      "Penalties :-  1\n",
      "Reward:- -1\n",
      "[[ 2.45357133  2.34047687  2.52595174  1.80136045  2.41667948]\n",
      " [ 2.18782357  2.19444564  2.53215116  1.95016872  2.38232485]\n",
      " [ 2.52666476  2.53732395  2.50113294  2.56634442  2.09157218]\n",
      " [ 2.58182458  2.6264077   2.45266611  2.5188928   1.99902118]\n",
      " [ 2.14723348  2.57483836  2.19550815  2.12581345  1.88989871]\n",
      " [ 2.35991122  2.49574253  1.85424135  2.48965048  2.35968439]\n",
      " [ 2.05383228  2.06463356  2.1575968   1.70289898  1.36516638]\n",
      " [ 1.63660164  1.41437801  1.81723143  1.63662786  1.27946773]\n",
      " [ 1.19249924  1.20764602  0.58657726  0.87102361  1.2280237 ]\n",
      " [ 1.42898691  1.34912116  0.7678962   1.11220553  0.52174441]\n",
      " [ 0.57232049  0.88150792  0.65733642  1.00391566  0.26701938]\n",
      " [ 1.76740253  2.06068708  1.550578    2.04554974  1.99168306]\n",
      " [ 1.19335052  0.89901164  0.66085481  0.43780242  0.91262149]\n",
      " [ 0.84979056  0.80388282  0.45739852  0.89799076  0.68697056]\n",
      " [ 0.25684535  0.14896382  0.02721439 -0.10862499 -0.01333101]]\n"
     ]
    }
   ],
   "source": [
    "import random\n",
    "    \n",
    "epsilon = 0.1 #the percentage of time when we should take the best action (instead of a random action)\n",
    "gamma = 0.4#discount factor for future rewards\n",
    "alpha = 0.1 #the rate at which the AI agent should learn\n",
    "\n",
    "all_epochs = []\n",
    "all_penalties = []\n",
    "\n",
    "\n",
    "#for i in range(1, 5):\n",
    "\n",
    "for j in range(len(nadf)):    \n",
    "    #print(index, \" \",row['Object Velocity'])\n",
    "    \n",
    "    state = make_state(nadf[j,0])\n",
    "    epochs, penalties, reward, = 0, 0, 0\n",
    "        #done = False\n",
    "        #while not done:\n",
    "        \n",
    "    if random.uniform(0, 1) > epsilon:\n",
    "         action = random.randint(0,4) # Explore action space\n",
    "    else:\n",
    "         action = np.argmax(q_table[state]) # Exploit learned values\n",
    "\n",
    "        \n",
    "    old_value = q_table[state, action]\n",
    "    next_s,reward = next_state(state,action,nadf[j,0],nadf[j,1],nadf[j,5],reward)\n",
    "    next_max = np.max(q_table[next_s])\n",
    "\n",
    "    new_value = (1 - alpha) * old_value + alpha * (reward + gamma * next_max)\n",
    "    q_table[state, action] = new_value\n",
    "        \n",
    "        #if reward == 100:\n",
    "        #done = True\n",
    "            \n",
    "    if reward==-1:\n",
    "        penalties+=1\n",
    "                \n",
    "                \n",
    "        epochs += 1\n",
    "        \n",
    "    '''if i % 100 == 0:\n",
    "        clear_output(wait=True)\n",
    "        print(f\"Episode: {i}\")'''\n",
    "\n",
    "print(\"Training finished.\\n\")\n",
    "print(\"Penalties :- \",penalties)\n",
    "print(\"Reward:-\",reward)\n",
    "print(q_table)\n",
    "\n",
    "        \n",
    "\n",
    "        \n",
    "\n",
    "\n",
    "\n",
    "            \n",
    "        \n",
    "        \n",
    "        \n",
    "        "
   ]
  },
  {
   "cell_type": "markdown",
   "metadata": {
    "id": "uq9nnjT96En8"
   },
   "source": [
    "# Prediction Data set\n"
   ]
  },
  {
   "cell_type": "code",
   "execution_count": 12,
   "metadata": {
    "id": "9RbrUzdV6En9",
    "outputId": "86161455-e7d6-4ccf-fded-327147314b01"
   },
   "outputs": [
    {
     "data": {
      "text/plain": [
       "16"
      ]
     },
     "execution_count": 12,
     "metadata": {},
     "output_type": "execute_result"
    }
   ],
   "source": [
    "v2 = [0,2.77,5.55,8.33,11.11,13.88,16.66,19.44,22.22,25,27.77,30.55,33.33,36.11,38.88,41.66]\n",
    "v1 = [1,3,4,8.33,12,12,15,21,23,24,28,32,30,33,41,41.66]\n",
    "len(v2)"
   ]
  },
  {
   "cell_type": "code",
   "execution_count": 13,
   "metadata": {
    "id": "MZfiWXYs6En9"
   },
   "outputs": [],
   "source": [
    "r = []\n",
    "for i in range(len(v1)):\n",
    "    if(i==0):\n",
    "        a = 1\n",
    "    else:\n",
    "        a = 2.77\n",
    "        \n",
    "    x = v2[i]/2.5\n",
    "    d=(pow((v2[i]-v1[i]),2)/(2*a))\n",
    "    rg = float(x+d)\n",
    "    r.append(rg)\n"
   ]
  },
  {
   "cell_type": "code",
   "execution_count": 14,
   "metadata": {
    "id": "UKI6lJAs6En9",
    "outputId": "56d942a3-8ce0-4fce-a6b5-9b0b7568b1d6"
   },
   "outputs": [
    {
     "data": {
      "text/plain": [
       "[0.5,\n",
       " 1.117548736462094,\n",
       " 2.6536642599277975,\n",
       " 3.332,\n",
       " 4.586978339350181,\n",
       " 6.189978339350182,\n",
       " 7.161400722021661,\n",
       " 8.21527797833935,\n",
       " 8.997819494584839,\n",
       " 10.180505415162456,\n",
       " 11.117548736462094,\n",
       " 12.599512635379062,\n",
       " 15.333606498194943,\n",
       " 16.18986642599278,\n",
       " 16.363263537906136,\n",
       " 16.663999999999998]"
      ]
     },
     "execution_count": 14,
     "metadata": {},
     "output_type": "execute_result"
    }
   ],
   "source": [
    "r"
   ]
  },
  {
   "cell_type": "code",
   "execution_count": 15,
   "metadata": {
    "id": "JQ-0jBlS6En-",
    "outputId": "cae7e516-f510-4797-e8ec-6851ecc2b916"
   },
   "outputs": [
    {
     "data": {
      "text/plain": [
       "[0.15,\n",
       " 0.3352646209386282,\n",
       " 0.7960992779783392,\n",
       " 0.9995999999999999,\n",
       " 1.3760935018050542,\n",
       " 1.8569935018050545,\n",
       " 2.1484202166064983,\n",
       " 2.4645833935018047,\n",
       " 2.6993458483754513,\n",
       " 3.054151624548737,\n",
       " 3.335264620938628,\n",
       " 3.7798537906137186,\n",
       " 4.600081949458483,\n",
       " 4.856959927797834,\n",
       " 4.9089790613718405,\n",
       " 4.999199999999999]"
      ]
     },
     "execution_count": 15,
     "metadata": {},
     "output_type": "execute_result"
    }
   ],
   "source": [
    "tolerance = []\n",
    "for i in range(len(r)):\n",
    "    t = r[i]*0.3\n",
    "    tolerance.append(t)\n",
    "\n",
    "tolerance"
   ]
  },
  {
   "cell_type": "code",
   "execution_count": 16,
   "metadata": {
    "id": "FXM0_MIJ6En-",
    "outputId": "f76d62dd-4359-4649-f39a-b8e3835c5556"
   },
   "outputs": [
    {
     "data": {
      "text/plain": [
       "[0.65,\n",
       " 1.4528133574007223,\n",
       " 3.449763537906137,\n",
       " 4.3316,\n",
       " 5.9630718411552355,\n",
       " 8.046971841155237,\n",
       " 9.309820938628159,\n",
       " 10.679861371841154,\n",
       " 11.69716534296029,\n",
       " 13.234657039711193,\n",
       " 14.452813357400721,\n",
       " 16.37936642599278,\n",
       " 19.933688447653424,\n",
       " 21.046826353790614,\n",
       " 21.272242599277977,\n",
       " 21.663199999999996]"
      ]
     },
     "execution_count": 16,
     "metadata": {},
     "output_type": "execute_result"
    }
   ],
   "source": [
    "final_range = []\n",
    "for i in range(len(r)):\n",
    "    s = float(tolerance[i] + r[i])\n",
    "    final_range.append(s)\n",
    "\n",
    "final_range"
   ]
  },
  {
   "cell_type": "code",
   "execution_count": null,
   "metadata": {
    "id": "WhF1m0VY6En-"
   },
   "outputs": [],
   "source": [
    "import xlwt\n",
    "from xlwt import Workbook\n",
    "\n",
    "wb = Workbook()\n",
    "  \n",
    "sheet1 = wb.add_sheet('Sheet 1')\n",
    "\n",
    "sheet1.write(0, 0, 'Self Velocity in km/hr')\n",
    "sheet1.write(0, 1, 'Self Velocity in m/s')\n",
    "sheet1.write(0, 2, 'Range')\n",
    "sheet1.write(0, 3, 'Tolerance')\n",
    "sheet1.write(0, 4, 'Range + Tolerance')\n",
    "\n",
    "temp = 0\n",
    "for i in range(len(r)):\n",
    "    j = i+1\n",
    "    sheet1.write(j,0,temp)\n",
    "    sheet1.write(j,1,v2[i])\n",
    "    sheet1.write(j,2,r[i])\n",
    "    sheet1.write(j,3,tolerance[i])\n",
    "    sheet1.write(j,4,final_range[i])\n",
    "    temp = temp+10\n",
    "\n",
    "wb.save('PredictedData.xls')"
   ]
  },
  {
   "cell_type": "code",
   "execution_count": null,
   "metadata": {
    "id": "7KJbZYq26En-"
   },
   "outputs": [],
   "source": []
  }
 ],
 "metadata": {
  "colab": {
   "collapsed_sections": [],
   "provenance": []
  },
  "kernelspec": {
   "display_name": "Python 3 (ipykernel)",
   "language": "python",
   "name": "python3"
  },
  "language_info": {
   "codemirror_mode": {
    "name": "ipython",
    "version": 3
   },
   "file_extension": ".py",
   "mimetype": "text/x-python",
   "name": "python",
   "nbconvert_exporter": "python",
   "pygments_lexer": "ipython3",
   "version": "3.9.7"
  }
 },
 "nbformat": 4,
 "nbformat_minor": 1
}
