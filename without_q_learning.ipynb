{
  "cells": [
    {
      "cell_type": "code",
      "execution_count": null,
      "metadata": {
        "colab": {
          "base_uri": "https://localhost:8080/"
        },
        "id": "OEJFwI9-LR7Z",
        "outputId": "3e8539fd-ca45-43c2-fa5b-cb5afe19a67a"
      },
      "outputs": [
        {
          "name": "stdout",
          "output_type": "stream",
          "text": [
            "Velocity of front vehicle :- 4.8\n",
            "Velocity of backward vehicle :- 9.2\n",
            "Acceleration of backward car :- -3.5\n"
          ]
        }
      ],
      "source": [
        "V1=float((input(\"Velocity of front vehicle :- \")))\n",
        "V2=float((input(\"Velocity of backward vehicle :- \")))\n",
        "a2=float((input(\"Acceleration of backward car :- \")))"
      ]
    },
    {
      "cell_type": "markdown",
      "source": [
        "D --> distance between two nodes at a time\n",
        "\n",
        "range --> distance coverd till car stops\n",
        "\n",
        "X --> distance covered in 2.5sec\n",
        "\n",
        "d --> stopping distance\n",
        "\n",
        "breakin distance ---> v^2 / 250*f   f== 0.8 coieficient of friction"
      ],
      "metadata": {
        "id": "GwvQKMqyZEkM"
      }
    },
    {
      "cell_type": "code",
      "execution_count": null,
      "metadata": {
        "colab": {
          "base_uri": "https://localhost:8080/"
        },
        "id": "bZNKQwl1LR7a",
        "outputId": "ef01ff72-aa45-417b-84b4-e1e31b2bd53d"
      },
      "outputs": [
        {
          "output_type": "execute_result",
          "data": {
            "text/plain": [
              "3.6799999999999997"
            ]
          },
          "metadata": {},
          "execution_count": 3
        }
      ],
      "source": [
        "x=float(V2/2.5)\n",
        "x"
      ]
    },
    {
      "cell_type": "code",
      "execution_count": null,
      "metadata": {
        "colab": {
          "base_uri": "https://localhost:8080/"
        },
        "id": "4gbfjpriLR7b",
        "outputId": "7c0cea4e-1579-460f-aa2f-5e3cda19efa6"
      },
      "outputs": [
        {
          "output_type": "execute_result",
          "data": {
            "text/plain": [
              "2.765714285714285"
            ]
          },
          "metadata": {},
          "execution_count": 4
        }
      ],
      "source": [
        "d=-(pow((V2-V1),2)/(2*a2))\n",
        "d"
      ]
    },
    {
      "cell_type": "code",
      "execution_count": null,
      "metadata": {
        "colab": {
          "base_uri": "https://localhost:8080/"
        },
        "id": "5uaDRRPxLR7b",
        "outputId": "a9901100-00fb-4a11-b36a-01b2a069d8f6"
      },
      "outputs": [
        {
          "output_type": "execute_result",
          "data": {
            "text/plain": [
              "6.445714285714285"
            ]
          },
          "metadata": {},
          "execution_count": 5
        }
      ],
      "source": [
        "range = float(x+d)\n",
        "range"
      ]
    },
    {
      "cell_type": "code",
      "execution_count": null,
      "metadata": {
        "colab": {
          "base_uri": "https://localhost:8080/"
        },
        "id": "Orv_PAOlLR7b",
        "outputId": "1a17ddc8-e372-4160-d349-18939e502306"
      },
      "outputs": [
        {
          "name": "stdout",
          "output_type": "stream",
          "text": [
            "Enter a distance between two car : 6\n"
          ]
        }
      ],
      "source": [
        "D = float(input(\"Enter a distance between two car : \"))"
      ]
    },
    {
      "cell_type": "code",
      "execution_count": null,
      "metadata": {
        "id": "2X_JDl9aLR7b",
        "colab": {
          "base_uri": "https://localhost:8080/"
        },
        "outputId": "8a4664c1-8470-4026-b234-ddbf163d648e"
      },
      "outputs": [
        {
          "output_type": "stream",
          "name": "stdout",
          "text": [
            "Notify Brake now\n"
          ]
        }
      ],
      "source": [
        "if((V2>V1) and (D==int(range))):\n",
        "    print(\"Notify Brake now\")\n",
        "\n"
      ]
    },
    {
      "cell_type": "code",
      "source": [
        "br_dist = pow(V2,2)/(250*0.8)\n",
        "br_dist"
      ],
      "metadata": {
        "colab": {
          "base_uri": "https://localhost:8080/"
        },
        "id": "LopmuwCxi63n",
        "outputId": "5a24e8c6-e05f-43a4-d5fd-88cd5b93bae9"
      },
      "execution_count": null,
      "outputs": [
        {
          "output_type": "execute_result",
          "data": {
            "text/plain": [
              "0.4231999999999999"
            ]
          },
          "metadata": {},
          "execution_count": 9
        }
      ]
    },
    {
      "cell_type": "code",
      "execution_count": null,
      "metadata": {
        "colab": {
          "base_uri": "https://localhost:8080/"
        },
        "id": "T2DXwaEgLR7c",
        "outputId": "96b27dd5-3e6f-49b2-9dd3-70a52930ec31"
      },
      "outputs": [
        {
          "output_type": "stream",
          "name": "stdout",
          "text": [
            "Good\n"
          ]
        }
      ],
      "source": [
        "if(range < D):\n",
        "    print(\"Bad\")\n",
        "else:\n",
        "    print(\"Good\")"
      ]
    }
  ],
  "metadata": {
    "kernelspec": {
      "display_name": "Python 3",
      "language": "python",
      "name": "python3"
    },
    "language_info": {
      "codemirror_mode": {
        "name": "ipython",
        "version": 3
      },
      "file_extension": ".py",
      "mimetype": "text/x-python",
      "name": "python",
      "nbconvert_exporter": "python",
      "pygments_lexer": "ipython3",
      "version": "3.8.5"
    },
    "colab": {
      "provenance": []
    }
  },
  "nbformat": 4,
  "nbformat_minor": 0
}